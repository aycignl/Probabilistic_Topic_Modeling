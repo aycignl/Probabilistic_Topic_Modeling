{
 "cells": [
  {
   "cell_type": "markdown",
   "metadata": {
    "collapsed": true,
    "deletable": true,
    "editable": true
   },
   "source": [
    "# 3, 5, and 8 mers data preparation"
   ]
  },
  {
   "cell_type": "code",
   "execution_count": 36,
   "metadata": {
    "collapsed": true,
    "deletable": true,
    "editable": true
   },
   "outputs": [],
   "source": [
    "import pandas as pd\n",
    "import numpy as np"
   ]
  },
  {
   "cell_type": "code",
   "execution_count": 2,
   "metadata": {
    "collapsed": false,
    "deletable": true,
    "editable": true
   },
   "outputs": [
    {
     "data": {
      "text/html": [
       "<div>\n",
       "<style>\n",
       "    .dataframe thead tr:only-child th {\n",
       "        text-align: right;\n",
       "    }\n",
       "\n",
       "    .dataframe thead th {\n",
       "        text-align: left;\n",
       "    }\n",
       "\n",
       "    .dataframe tbody tr th {\n",
       "        vertical-align: top;\n",
       "    }\n",
       "</style>\n",
       "<table border=\"1\" class=\"dataframe\">\n",
       "  <thead>\n",
       "    <tr style=\"text-align: right;\">\n",
       "      <th></th>\n",
       "      <th>SwissProt Accession ID</th>\n",
       "      <th>Long ID</th>\n",
       "      <th>Protein Name</th>\n",
       "      <th>Family ID</th>\n",
       "      <th>Family Description</th>\n",
       "    </tr>\n",
       "  </thead>\n",
       "  <tbody>\n",
       "    <tr>\n",
       "      <th>0</th>\n",
       "      <td>Q6GZX4</td>\n",
       "      <td>001R_FRG3G</td>\n",
       "      <td>Putative transcription factor 001R</td>\n",
       "      <td>Pox_VLTF3</td>\n",
       "      <td>Poxvirus Late Transcription Factor VLTF3 like</td>\n",
       "    </tr>\n",
       "    <tr>\n",
       "      <th>1</th>\n",
       "      <td>Q6GZX3</td>\n",
       "      <td>002L_FRG3G</td>\n",
       "      <td>Uncharacterized protein 002L</td>\n",
       "      <td>DUF230</td>\n",
       "      <td>Poxvirus proteins of unknown function</td>\n",
       "    </tr>\n",
       "    <tr>\n",
       "      <th>2</th>\n",
       "      <td>Q6GZX0</td>\n",
       "      <td>005R_FRG3G</td>\n",
       "      <td>Uncharacterized protein 005R</td>\n",
       "      <td>US22</td>\n",
       "      <td>US22 like</td>\n",
       "    </tr>\n",
       "  </tbody>\n",
       "</table>\n",
       "</div>"
      ],
      "text/plain": [
       "  SwissProt Accession ID     Long ID                        Protein Name  \\\n",
       "0                 Q6GZX4  001R_FRG3G  Putative transcription factor 001R   \n",
       "1                 Q6GZX3  002L_FRG3G        Uncharacterized protein 002L   \n",
       "2                 Q6GZX0  005R_FRG3G        Uncharacterized protein 005R   \n",
       "\n",
       "   Family ID                             Family Description  \n",
       "0  Pox_VLTF3  Poxvirus Late Transcription Factor VLTF3 like  \n",
       "1     DUF230          Poxvirus proteins of unknown function  \n",
       "2       US22                                      US22 like  "
      ]
     },
     "execution_count": 2,
     "metadata": {},
     "output_type": "execute_result"
    }
   ],
   "source": [
    "df1 = pd.read_excel('family_classification_metadata.xlsx')\n",
    "df1[0:3]"
   ]
  },
  {
   "cell_type": "code",
   "execution_count": 3,
   "metadata": {
    "collapsed": false,
    "deletable": true,
    "editable": true
   },
   "outputs": [
    {
     "data": {
      "text/html": [
       "<div>\n",
       "<style>\n",
       "    .dataframe thead tr:only-child th {\n",
       "        text-align: right;\n",
       "    }\n",
       "\n",
       "    .dataframe thead th {\n",
       "        text-align: left;\n",
       "    }\n",
       "\n",
       "    .dataframe tbody tr th {\n",
       "        vertical-align: top;\n",
       "    }\n",
       "</style>\n",
       "<table border=\"1\" class=\"dataframe\">\n",
       "  <thead>\n",
       "    <tr style=\"text-align: right;\">\n",
       "      <th></th>\n",
       "      <th>Sequences</th>\n",
       "    </tr>\n",
       "  </thead>\n",
       "  <tbody>\n",
       "    <tr>\n",
       "      <th>0</th>\n",
       "      <td>MAFSAEDVLKEYDRRRRMEALLLSLYYPNDRKLLDYKEWSPPRVQV...</td>\n",
       "    </tr>\n",
       "    <tr>\n",
       "      <th>1</th>\n",
       "      <td>MSIIGATRLQNDKSDTYSAGPCYAGGCSAFTPRGTCGKDWDLGEQT...</td>\n",
       "    </tr>\n",
       "    <tr>\n",
       "      <th>2</th>\n",
       "      <td>MQNPLPEVMSPEHDKRTTTPMSKEANKFIRELDKKPGDLAVVSDFV...</td>\n",
       "    </tr>\n",
       "  </tbody>\n",
       "</table>\n",
       "</div>"
      ],
      "text/plain": [
       "                                           Sequences\n",
       "0  MAFSAEDVLKEYDRRRRMEALLLSLYYPNDRKLLDYKEWSPPRVQV...\n",
       "1  MSIIGATRLQNDKSDTYSAGPCYAGGCSAFTPRGTCGKDWDLGEQT...\n",
       "2  MQNPLPEVMSPEHDKRTTTPMSKEANKFIRELDKKPGDLAVVSDFV..."
      ]
     },
     "execution_count": 3,
     "metadata": {},
     "output_type": "execute_result"
    }
   ],
   "source": [
    "df2 = pd.read_csv('family_classification_sequences.csv')\n",
    "df2[0:3]"
   ]
  },
  {
   "cell_type": "code",
   "execution_count": 4,
   "metadata": {
    "collapsed": false,
    "deletable": true,
    "editable": true
   },
   "outputs": [
    {
     "data": {
      "text/html": [
       "<div>\n",
       "<style>\n",
       "    .dataframe thead tr:only-child th {\n",
       "        text-align: right;\n",
       "    }\n",
       "\n",
       "    .dataframe thead th {\n",
       "        text-align: left;\n",
       "    }\n",
       "\n",
       "    .dataframe tbody tr th {\n",
       "        vertical-align: top;\n",
       "    }\n",
       "</style>\n",
       "<table border=\"1\" class=\"dataframe\">\n",
       "  <thead>\n",
       "    <tr style=\"text-align: right;\">\n",
       "      <th></th>\n",
       "      <th>SwissProt Accession ID</th>\n",
       "      <th>Long ID</th>\n",
       "      <th>Protein Name</th>\n",
       "      <th>Family ID</th>\n",
       "      <th>Family Description</th>\n",
       "      <th>Sequences</th>\n",
       "    </tr>\n",
       "  </thead>\n",
       "  <tbody>\n",
       "    <tr>\n",
       "      <th>0</th>\n",
       "      <td>Q6GZX4</td>\n",
       "      <td>001R_FRG3G</td>\n",
       "      <td>Putative transcription factor 001R</td>\n",
       "      <td>Pox_VLTF3</td>\n",
       "      <td>Poxvirus Late Transcription Factor VLTF3 like</td>\n",
       "      <td>MAFSAEDVLKEYDRRRRMEALLLSLYYPNDRKLLDYKEWSPPRVQV...</td>\n",
       "    </tr>\n",
       "    <tr>\n",
       "      <th>1</th>\n",
       "      <td>Q6GZX3</td>\n",
       "      <td>002L_FRG3G</td>\n",
       "      <td>Uncharacterized protein 002L</td>\n",
       "      <td>DUF230</td>\n",
       "      <td>Poxvirus proteins of unknown function</td>\n",
       "      <td>MSIIGATRLQNDKSDTYSAGPCYAGGCSAFTPRGTCGKDWDLGEQT...</td>\n",
       "    </tr>\n",
       "    <tr>\n",
       "      <th>2</th>\n",
       "      <td>Q6GZX0</td>\n",
       "      <td>005R_FRG3G</td>\n",
       "      <td>Uncharacterized protein 005R</td>\n",
       "      <td>US22</td>\n",
       "      <td>US22 like</td>\n",
       "      <td>MQNPLPEVMSPEHDKRTTTPMSKEANKFIRELDKKPGDLAVVSDFV...</td>\n",
       "    </tr>\n",
       "  </tbody>\n",
       "</table>\n",
       "</div>"
      ],
      "text/plain": [
       "  SwissProt Accession ID     Long ID                        Protein Name  \\\n",
       "0                 Q6GZX4  001R_FRG3G  Putative transcription factor 001R   \n",
       "1                 Q6GZX3  002L_FRG3G        Uncharacterized protein 002L   \n",
       "2                 Q6GZX0  005R_FRG3G        Uncharacterized protein 005R   \n",
       "\n",
       "   Family ID                             Family Description  \\\n",
       "0  Pox_VLTF3  Poxvirus Late Transcription Factor VLTF3 like   \n",
       "1     DUF230          Poxvirus proteins of unknown function   \n",
       "2       US22                                      US22 like   \n",
       "\n",
       "                                           Sequences  \n",
       "0  MAFSAEDVLKEYDRRRRMEALLLSLYYPNDRKLLDYKEWSPPRVQV...  \n",
       "1  MSIIGATRLQNDKSDTYSAGPCYAGGCSAFTPRGTCGKDWDLGEQT...  \n",
       "2  MQNPLPEVMSPEHDKRTTTPMSKEANKFIRELDKKPGDLAVVSDFV...  "
      ]
     },
     "execution_count": 4,
     "metadata": {},
     "output_type": "execute_result"
    }
   ],
   "source": [
    "merge_data = pd.concat([df1, df2], axis=1)\n",
    "merge_data[0:3]"
   ]
  },
  {
   "cell_type": "code",
   "execution_count": 5,
   "metadata": {
    "collapsed": false,
    "deletable": true,
    "editable": true
   },
   "outputs": [
    {
     "name": "stdout",
     "output_type": "stream",
     "text": [
      "324018\n"
     ]
    },
    {
     "data": {
      "text/html": [
       "<div>\n",
       "<style>\n",
       "    .dataframe thead tr:only-child th {\n",
       "        text-align: right;\n",
       "    }\n",
       "\n",
       "    .dataframe thead th {\n",
       "        text-align: left;\n",
       "    }\n",
       "\n",
       "    .dataframe tbody tr th {\n",
       "        vertical-align: top;\n",
       "    }\n",
       "</style>\n",
       "<table border=\"1\" class=\"dataframe\">\n",
       "  <thead>\n",
       "    <tr style=\"text-align: right;\">\n",
       "      <th></th>\n",
       "      <th>Family ID</th>\n",
       "      <th>Protein Name</th>\n",
       "      <th>Sequences</th>\n",
       "    </tr>\n",
       "  </thead>\n",
       "  <tbody>\n",
       "    <tr>\n",
       "      <th>0</th>\n",
       "      <td>Pox_VLTF3</td>\n",
       "      <td>Putative transcription factor 001R</td>\n",
       "      <td>MAFSAEDVLKEYDRRRRMEALLLSLYYPNDRKLLDYKEWSPPRVQV...</td>\n",
       "    </tr>\n",
       "    <tr>\n",
       "      <th>1</th>\n",
       "      <td>DUF230</td>\n",
       "      <td>Uncharacterized protein 002L</td>\n",
       "      <td>MSIIGATRLQNDKSDTYSAGPCYAGGCSAFTPRGTCGKDWDLGEQT...</td>\n",
       "    </tr>\n",
       "    <tr>\n",
       "      <th>2</th>\n",
       "      <td>US22</td>\n",
       "      <td>Uncharacterized protein 005R</td>\n",
       "      <td>MQNPLPEVMSPEHDKRTTTPMSKEANKFIRELDKKPGDLAVVSDFV...</td>\n",
       "    </tr>\n",
       "  </tbody>\n",
       "</table>\n",
       "</div>"
      ],
      "text/plain": [
       "   Family ID                        Protein Name  \\\n",
       "0  Pox_VLTF3  Putative transcription factor 001R   \n",
       "1     DUF230        Uncharacterized protein 002L   \n",
       "2       US22        Uncharacterized protein 005R   \n",
       "\n",
       "                                           Sequences  \n",
       "0  MAFSAEDVLKEYDRRRRMEALLLSLYYPNDRKLLDYKEWSPPRVQV...  \n",
       "1  MSIIGATRLQNDKSDTYSAGPCYAGGCSAFTPRGTCGKDWDLGEQT...  \n",
       "2  MQNPLPEVMSPEHDKRTTTPMSKEANKFIRELDKKPGDLAVVSDFV...  "
      ]
     },
     "execution_count": 5,
     "metadata": {},
     "output_type": "execute_result"
    }
   ],
   "source": [
    "data = merge_data[[\"Family ID\", \"Protein Name\", \"Sequences\"]]\n",
    "print len(data)\n",
    "data[0:3]"
   ]
  },
  {
   "cell_type": "code",
   "execution_count": 6,
   "metadata": {
    "collapsed": false,
    "deletable": true,
    "editable": true
   },
   "outputs": [
    {
     "name": "stderr",
     "output_type": "stream",
     "text": [
      "/Users/brain/anaconda/lib/python2.7/site-packages/sklearn/cross_validation.py:41: DeprecationWarning: This module was deprecated in version 0.18 in favor of the model_selection module into which all the refactored classes and functions are moved. Also note that the interface of the new CV iterators are different from that of this module. This module will be removed in 0.20.\n",
      "  \"This module will be removed in 0.20.\", DeprecationWarning)\n"
     ]
    }
   ],
   "source": [
    "from sklearn.cross_validation import train_test_split"
   ]
  },
  {
   "cell_type": "code",
   "execution_count": 7,
   "metadata": {
    "collapsed": true,
    "deletable": true,
    "editable": true
   },
   "outputs": [],
   "source": [
    "from sklearn.cross_validation import train_test_split\n",
    "# split train and test data with .8 and .2 rate, respectively\n",
    "train_data, test_data = train_test_split(data, test_size=0.2)"
   ]
  },
  {
   "cell_type": "code",
   "execution_count": null,
   "metadata": {
    "collapsed": false,
    "deletable": true,
    "editable": true,
    "scrolled": true
   },
   "outputs": [],
   "source": [
    "print len(train_data)\n",
    "train_data[0:1]"
   ]
  },
  {
   "cell_type": "markdown",
   "metadata": {
    "deletable": true,
    "editable": true
   },
   "source": [
    "# train set for 3 mers"
   ]
  },
  {
   "cell_type": "code",
   "execution_count": null,
   "metadata": {
    "collapsed": true,
    "deletable": true,
    "editable": true
   },
   "outputs": [],
   "source": [
    "#train_3_data = train_data"
   ]
  },
  {
   "cell_type": "code",
   "execution_count": 9,
   "metadata": {
    "collapsed": true,
    "deletable": true,
    "editable": true
   },
   "outputs": [],
   "source": [
    "import copy"
   ]
  },
  {
   "cell_type": "code",
   "execution_count": 37,
   "metadata": {
    "collapsed": false,
    "deletable": true,
    "editable": true
   },
   "outputs": [
    {
     "data": {
      "text/plain": [
       "pandas.core.frame.DataFrame"
      ]
     },
     "execution_count": 37,
     "metadata": {},
     "output_type": "execute_result"
    }
   ],
   "source": [
    "train_3_data = copy.deepcopy(train_data)\n",
    "type(train_3_data)"
   ]
  },
  {
   "cell_type": "code",
   "execution_count": 11,
   "metadata": {
    "collapsed": false,
    "deletable": true,
    "editable": true
   },
   "outputs": [],
   "source": [
    "l = len(train_3_data)\n",
    "k = 3\n",
    "\n",
    "threeMerTrainingList = []\n",
    "threeMerTraining = []\n",
    "\n",
    "\n",
    "for index in range(l):\n",
    "    threeMerTrainingList.append([train_3_data.values[index][2][i:i+k] \n",
    "                                 for i in range(0, len(train_3_data.values[index][2]), k)])\n",
    "    threeMerTraining.append(','.join(threeMerTrainingList[index]))\n"
   ]
  },
  {
   "cell_type": "code",
   "execution_count": null,
   "metadata": {
    "collapsed": false,
    "deletable": true,
    "editable": true
   },
   "outputs": [],
   "source": [
    "#train_3_data['Sequences'] = train_3_data['Sequences'].apply(transform_kmer(threeMerTraining))"
   ]
  },
  {
   "cell_type": "code",
   "execution_count": 12,
   "metadata": {
    "collapsed": false,
    "deletable": true,
    "editable": true
   },
   "outputs": [
    {
     "data": {
      "text/html": [
       "<div>\n",
       "<style>\n",
       "    .dataframe thead tr:only-child th {\n",
       "        text-align: right;\n",
       "    }\n",
       "\n",
       "    .dataframe thead th {\n",
       "        text-align: left;\n",
       "    }\n",
       "\n",
       "    .dataframe tbody tr th {\n",
       "        vertical-align: top;\n",
       "    }\n",
       "</style>\n",
       "<table border=\"1\" class=\"dataframe\">\n",
       "  <thead>\n",
       "    <tr style=\"text-align: right;\">\n",
       "      <th></th>\n",
       "      <th>Family ID</th>\n",
       "      <th>Protein Name</th>\n",
       "      <th>Sequences</th>\n",
       "    </tr>\n",
       "  </thead>\n",
       "  <tbody>\n",
       "    <tr>\n",
       "      <th>34581</th>\n",
       "      <td>Carn_acyltransf</td>\n",
       "      <td>Choline O-acetyltransferase</td>\n",
       "      <td>MPDLEKDMQKKEKDSRSKDEPAVPKLPVPPLQQTLQMYLQCMKHLV...</td>\n",
       "    </tr>\n",
       "    <tr>\n",
       "      <th>136255</th>\n",
       "      <td>PMSR</td>\n",
       "      <td>Peptide methionine sulfoxide reductase MsrA/MsrB</td>\n",
       "      <td>MKHRTFFSLCAKFGCLLALGACSPKIVDAGTATVPHTLSTLKTADN...</td>\n",
       "    </tr>\n",
       "    <tr>\n",
       "      <th>26967</th>\n",
       "      <td>Cadherin_C</td>\n",
       "      <td>Cadherin-2</td>\n",
       "      <td>SLCKTGFPEDVYSAVLSRDVLEGQPLLNVKFSNCNGKRKVQYESSE...</td>\n",
       "    </tr>\n",
       "  </tbody>\n",
       "</table>\n",
       "</div>"
      ],
      "text/plain": [
       "              Family ID                                      Protein Name  \\\n",
       "34581   Carn_acyltransf                       Choline O-acetyltransferase   \n",
       "136255             PMSR  Peptide methionine sulfoxide reductase MsrA/MsrB   \n",
       "26967        Cadherin_C                                        Cadherin-2   \n",
       "\n",
       "                                                Sequences  \n",
       "34581   MPDLEKDMQKKEKDSRSKDEPAVPKLPVPPLQQTLQMYLQCMKHLV...  \n",
       "136255  MKHRTFFSLCAKFGCLLALGACSPKIVDAGTATVPHTLSTLKTADN...  \n",
       "26967   SLCKTGFPEDVYSAVLSRDVLEGQPLLNVKFSNCNGKRKVQYESSE...  "
      ]
     },
     "execution_count": 12,
     "metadata": {},
     "output_type": "execute_result"
    }
   ],
   "source": [
    "train_3_data[0:3]"
   ]
  },
  {
   "cell_type": "code",
   "execution_count": 13,
   "metadata": {
    "collapsed": false,
    "deletable": true,
    "editable": true
   },
   "outputs": [],
   "source": [
    "train_3_data['Sequences'] = threeMerTraining"
   ]
  },
  {
   "cell_type": "code",
   "execution_count": null,
   "metadata": {
    "collapsed": false,
    "deletable": true,
    "editable": true
   },
   "outputs": [],
   "source": [
    "#del train_data['sequences']"
   ]
  },
  {
   "cell_type": "code",
   "execution_count": 14,
   "metadata": {
    "collapsed": false,
    "deletable": true,
    "editable": true
   },
   "outputs": [
    {
     "data": {
      "text/html": [
       "<div>\n",
       "<style>\n",
       "    .dataframe thead tr:only-child th {\n",
       "        text-align: right;\n",
       "    }\n",
       "\n",
       "    .dataframe thead th {\n",
       "        text-align: left;\n",
       "    }\n",
       "\n",
       "    .dataframe tbody tr th {\n",
       "        vertical-align: top;\n",
       "    }\n",
       "</style>\n",
       "<table border=\"1\" class=\"dataframe\">\n",
       "  <thead>\n",
       "    <tr style=\"text-align: right;\">\n",
       "      <th></th>\n",
       "      <th>Family ID</th>\n",
       "      <th>Protein Name</th>\n",
       "      <th>Sequences</th>\n",
       "    </tr>\n",
       "  </thead>\n",
       "  <tbody>\n",
       "    <tr>\n",
       "      <th>34581</th>\n",
       "      <td>Carn_acyltransf</td>\n",
       "      <td>Choline O-acetyltransferase</td>\n",
       "      <td>MPD,LEK,DMQ,KKE,KDS,RSK,DEP,AVP,KLP,VPP,LQQ,TL...</td>\n",
       "    </tr>\n",
       "    <tr>\n",
       "      <th>136255</th>\n",
       "      <td>PMSR</td>\n",
       "      <td>Peptide methionine sulfoxide reductase MsrA/MsrB</td>\n",
       "      <td>MKH,RTF,FSL,CAK,FGC,LLA,LGA,CSP,KIV,DAG,TAT,VP...</td>\n",
       "    </tr>\n",
       "    <tr>\n",
       "      <th>26967</th>\n",
       "      <td>Cadherin_C</td>\n",
       "      <td>Cadherin-2</td>\n",
       "      <td>SLC,KTG,FPE,DVY,SAV,LSR,DVL,EGQ,PLL,NVK,FSN,CN...</td>\n",
       "    </tr>\n",
       "    <tr>\n",
       "      <th>180327</th>\n",
       "      <td>PsbJ</td>\n",
       "      <td>Photosystem II reaction center protein J</td>\n",
       "      <td>MAD,TTG,RIP,LWL,IGT,VTG,IPV,IGL,IGI,FFY,GSY,SG...</td>\n",
       "    </tr>\n",
       "  </tbody>\n",
       "</table>\n",
       "</div>"
      ],
      "text/plain": [
       "              Family ID                                      Protein Name  \\\n",
       "34581   Carn_acyltransf                       Choline O-acetyltransferase   \n",
       "136255             PMSR  Peptide methionine sulfoxide reductase MsrA/MsrB   \n",
       "26967        Cadherin_C                                        Cadherin-2   \n",
       "180327             PsbJ          Photosystem II reaction center protein J   \n",
       "\n",
       "                                                Sequences  \n",
       "34581   MPD,LEK,DMQ,KKE,KDS,RSK,DEP,AVP,KLP,VPP,LQQ,TL...  \n",
       "136255  MKH,RTF,FSL,CAK,FGC,LLA,LGA,CSP,KIV,DAG,TAT,VP...  \n",
       "26967   SLC,KTG,FPE,DVY,SAV,LSR,DVL,EGQ,PLL,NVK,FSN,CN...  \n",
       "180327  MAD,TTG,RIP,LWL,IGT,VTG,IPV,IGL,IGI,FFY,GSY,SG...  "
      ]
     },
     "execution_count": 14,
     "metadata": {},
     "output_type": "execute_result"
    }
   ],
   "source": [
    "train_3_data[0:4]"
   ]
  },
  {
   "cell_type": "code",
   "execution_count": 15,
   "metadata": {
    "collapsed": true,
    "deletable": true,
    "editable": true
   },
   "outputs": [],
   "source": [
    "train_3_data.to_csv(\"train_3.csv\", sep=\",\")"
   ]
  },
  {
   "cell_type": "markdown",
   "metadata": {
    "deletable": true,
    "editable": true
   },
   "source": [
    "# test set for 3 mers"
   ]
  },
  {
   "cell_type": "code",
   "execution_count": 20,
   "metadata": {
    "collapsed": true,
    "deletable": true,
    "editable": true
   },
   "outputs": [],
   "source": [
    "test_3_data = copy.deepcopy(test_data)"
   ]
  },
  {
   "cell_type": "code",
   "execution_count": 21,
   "metadata": {
    "collapsed": true,
    "deletable": true,
    "editable": true
   },
   "outputs": [],
   "source": [
    "l = len(test_3_data)\n",
    "k = 3\n",
    "\n",
    "threeMerTestList = []\n",
    "threeMerTest = []\n",
    "\n",
    "for index in range(l):\n",
    "    threeMerTestList.append([test_3_data.values[index][2][i:i+k] \n",
    "                                 for i in range(0, len(test_3_data.values[index][2]), k)])\n",
    "    threeMerTest.append(','.join(threeMerTestList[index]))"
   ]
  },
  {
   "cell_type": "code",
   "execution_count": 22,
   "metadata": {
    "collapsed": false,
    "deletable": true,
    "editable": true
   },
   "outputs": [
    {
     "data": {
      "text/html": [
       "<div>\n",
       "<style>\n",
       "    .dataframe thead tr:only-child th {\n",
       "        text-align: right;\n",
       "    }\n",
       "\n",
       "    .dataframe thead th {\n",
       "        text-align: left;\n",
       "    }\n",
       "\n",
       "    .dataframe tbody tr th {\n",
       "        vertical-align: top;\n",
       "    }\n",
       "</style>\n",
       "<table border=\"1\" class=\"dataframe\">\n",
       "  <thead>\n",
       "    <tr style=\"text-align: right;\">\n",
       "      <th></th>\n",
       "      <th>Family ID</th>\n",
       "      <th>Protein Name</th>\n",
       "      <th>Sequences</th>\n",
       "    </tr>\n",
       "  </thead>\n",
       "  <tbody>\n",
       "    <tr>\n",
       "      <th>106153</th>\n",
       "      <td>Jun</td>\n",
       "      <td>Transcription factor AP-1</td>\n",
       "      <td>MTA,KME,TTF,YDD,ALN,ASF,LPS,ESG,PYG,YSN,PKI,LK...</td>\n",
       "    </tr>\n",
       "    <tr>\n",
       "      <th>28911</th>\n",
       "      <td>CbiD</td>\n",
       "      <td>Putative cobalt-precorrin-6A synthase [deacety...</td>\n",
       "      <td>MND,ETT,PAN,KNP,EKA,ELR,CGW,TTG,ACA,TAA,TKA,AL...</td>\n",
       "    </tr>\n",
       "    <tr>\n",
       "      <th>24356</th>\n",
       "      <td>PAP2</td>\n",
       "      <td>Bacitracin transport permease protein BcrC</td>\n",
       "      <td>MSF,SEL,NID,AFR,FIN,DLG,KEY,SML,NPV,VYF,LAE,YM...</td>\n",
       "    </tr>\n",
       "    <tr>\n",
       "      <th>114053</th>\n",
       "      <td>Aconitase</td>\n",
       "      <td>3-isopropylmalate dehydratase large subunit</td>\n",
       "      <td>MSQ,NTL,FDK,VWD,LHK,VSS,LPG,GSD,QIF,IGL,HLI,HE...</td>\n",
       "    </tr>\n",
       "  </tbody>\n",
       "</table>\n",
       "</div>"
      ],
      "text/plain": [
       "        Family ID                                       Protein Name  \\\n",
       "106153        Jun                          Transcription factor AP-1   \n",
       "28911        CbiD  Putative cobalt-precorrin-6A synthase [deacety...   \n",
       "24356        PAP2         Bacitracin transport permease protein BcrC   \n",
       "114053  Aconitase        3-isopropylmalate dehydratase large subunit   \n",
       "\n",
       "                                                Sequences  \n",
       "106153  MTA,KME,TTF,YDD,ALN,ASF,LPS,ESG,PYG,YSN,PKI,LK...  \n",
       "28911   MND,ETT,PAN,KNP,EKA,ELR,CGW,TTG,ACA,TAA,TKA,AL...  \n",
       "24356   MSF,SEL,NID,AFR,FIN,DLG,KEY,SML,NPV,VYF,LAE,YM...  \n",
       "114053  MSQ,NTL,FDK,VWD,LHK,VSS,LPG,GSD,QIF,IGL,HLI,HE...  "
      ]
     },
     "execution_count": 22,
     "metadata": {},
     "output_type": "execute_result"
    }
   ],
   "source": [
    "test_3_data['Sequences'] = threeMerTest\n",
    "test_3_data[0:4]"
   ]
  },
  {
   "cell_type": "code",
   "execution_count": 23,
   "metadata": {
    "collapsed": true,
    "deletable": true,
    "editable": true
   },
   "outputs": [],
   "source": [
    "test_3_data.to_csv(\"test_3.csv\", sep=\",\")"
   ]
  },
  {
   "cell_type": "markdown",
   "metadata": {
    "deletable": true,
    "editable": true
   },
   "source": [
    "# train set for 5 mers"
   ]
  },
  {
   "cell_type": "code",
   "execution_count": 16,
   "metadata": {
    "collapsed": false,
    "deletable": true,
    "editable": true
   },
   "outputs": [
    {
     "data": {
      "text/html": [
       "<div>\n",
       "<style>\n",
       "    .dataframe thead tr:only-child th {\n",
       "        text-align: right;\n",
       "    }\n",
       "\n",
       "    .dataframe thead th {\n",
       "        text-align: left;\n",
       "    }\n",
       "\n",
       "    .dataframe tbody tr th {\n",
       "        vertical-align: top;\n",
       "    }\n",
       "</style>\n",
       "<table border=\"1\" class=\"dataframe\">\n",
       "  <thead>\n",
       "    <tr style=\"text-align: right;\">\n",
       "      <th></th>\n",
       "      <th>Family ID</th>\n",
       "      <th>Protein Name</th>\n",
       "      <th>Sequences</th>\n",
       "    </tr>\n",
       "  </thead>\n",
       "  <tbody>\n",
       "    <tr>\n",
       "      <th>34581</th>\n",
       "      <td>Carn_acyltransf</td>\n",
       "      <td>Choline O-acetyltransferase</td>\n",
       "      <td>MPDLEKDMQKKEKDSRSKDEPAVPKLPVPPLQQTLQMYLQCMKHLV...</td>\n",
       "    </tr>\n",
       "    <tr>\n",
       "      <th>136255</th>\n",
       "      <td>PMSR</td>\n",
       "      <td>Peptide methionine sulfoxide reductase MsrA/MsrB</td>\n",
       "      <td>MKHRTFFSLCAKFGCLLALGACSPKIVDAGTATVPHTLSTLKTADN...</td>\n",
       "    </tr>\n",
       "  </tbody>\n",
       "</table>\n",
       "</div>"
      ],
      "text/plain": [
       "              Family ID                                      Protein Name  \\\n",
       "34581   Carn_acyltransf                       Choline O-acetyltransferase   \n",
       "136255             PMSR  Peptide methionine sulfoxide reductase MsrA/MsrB   \n",
       "\n",
       "                                                Sequences  \n",
       "34581   MPDLEKDMQKKEKDSRSKDEPAVPKLPVPPLQQTLQMYLQCMKHLV...  \n",
       "136255  MKHRTFFSLCAKFGCLLALGACSPKIVDAGTATVPHTLSTLKTADN...  "
      ]
     },
     "execution_count": 16,
     "metadata": {},
     "output_type": "execute_result"
    }
   ],
   "source": [
    "train_5_data = copy.deepcopy(train_data)\n",
    "train_5_data[0:2]"
   ]
  },
  {
   "cell_type": "code",
   "execution_count": 17,
   "metadata": {
    "collapsed": false,
    "deletable": true,
    "editable": true
   },
   "outputs": [],
   "source": [
    "l = len(train_5_data)\n",
    "k = 5\n",
    "\n",
    "fiveMerTrainList = []\n",
    "fiveMerTrain = []\n",
    "\n",
    "for index in range(l):\n",
    "    fiveMerTrainList.append([train_5_data.values[index][2][i:i+k] \n",
    "                                 for i in range(0, len(train_5_data.values[index][2]), k)])\n",
    "    fiveMerTrain.append(','.join(fiveMerTrainList[index]))"
   ]
  },
  {
   "cell_type": "code",
   "execution_count": 18,
   "metadata": {
    "collapsed": false,
    "deletable": true,
    "editable": true
   },
   "outputs": [
    {
     "data": {
      "text/html": [
       "<div>\n",
       "<style>\n",
       "    .dataframe thead tr:only-child th {\n",
       "        text-align: right;\n",
       "    }\n",
       "\n",
       "    .dataframe thead th {\n",
       "        text-align: left;\n",
       "    }\n",
       "\n",
       "    .dataframe tbody tr th {\n",
       "        vertical-align: top;\n",
       "    }\n",
       "</style>\n",
       "<table border=\"1\" class=\"dataframe\">\n",
       "  <thead>\n",
       "    <tr style=\"text-align: right;\">\n",
       "      <th></th>\n",
       "      <th>Family ID</th>\n",
       "      <th>Protein Name</th>\n",
       "      <th>Sequences</th>\n",
       "    </tr>\n",
       "  </thead>\n",
       "  <tbody>\n",
       "    <tr>\n",
       "      <th>34581</th>\n",
       "      <td>Carn_acyltransf</td>\n",
       "      <td>Choline O-acetyltransferase</td>\n",
       "      <td>MPDLE,KDMQK,KEKDS,RSKDE,PAVPK,LPVPP,LQQTL,QMYL...</td>\n",
       "    </tr>\n",
       "    <tr>\n",
       "      <th>136255</th>\n",
       "      <td>PMSR</td>\n",
       "      <td>Peptide methionine sulfoxide reductase MsrA/MsrB</td>\n",
       "      <td>MKHRT,FFSLC,AKFGC,LLALG,ACSPK,IVDAG,TATVP,HTLS...</td>\n",
       "    </tr>\n",
       "    <tr>\n",
       "      <th>26967</th>\n",
       "      <td>Cadherin_C</td>\n",
       "      <td>Cadherin-2</td>\n",
       "      <td>SLCKT,GFPED,VYSAV,LSRDV,LEGQP,LLNVK,FSNCN,GKRK...</td>\n",
       "    </tr>\n",
       "    <tr>\n",
       "      <th>180327</th>\n",
       "      <td>PsbJ</td>\n",
       "      <td>Photosystem II reaction center protein J</td>\n",
       "      <td>MADTT,GRIPL,WLIGT,VTGIP,VIGLI,GIFFY,GSYSG,LGSSL</td>\n",
       "    </tr>\n",
       "  </tbody>\n",
       "</table>\n",
       "</div>"
      ],
      "text/plain": [
       "              Family ID                                      Protein Name  \\\n",
       "34581   Carn_acyltransf                       Choline O-acetyltransferase   \n",
       "136255             PMSR  Peptide methionine sulfoxide reductase MsrA/MsrB   \n",
       "26967        Cadherin_C                                        Cadherin-2   \n",
       "180327             PsbJ          Photosystem II reaction center protein J   \n",
       "\n",
       "                                                Sequences  \n",
       "34581   MPDLE,KDMQK,KEKDS,RSKDE,PAVPK,LPVPP,LQQTL,QMYL...  \n",
       "136255  MKHRT,FFSLC,AKFGC,LLALG,ACSPK,IVDAG,TATVP,HTLS...  \n",
       "26967   SLCKT,GFPED,VYSAV,LSRDV,LEGQP,LLNVK,FSNCN,GKRK...  \n",
       "180327    MADTT,GRIPL,WLIGT,VTGIP,VIGLI,GIFFY,GSYSG,LGSSL  "
      ]
     },
     "execution_count": 18,
     "metadata": {},
     "output_type": "execute_result"
    }
   ],
   "source": [
    "train_5_data['Sequences'] = fiveMerTrain\n",
    "train_5_data[0:4]"
   ]
  },
  {
   "cell_type": "code",
   "execution_count": 19,
   "metadata": {
    "collapsed": true,
    "deletable": true,
    "editable": true
   },
   "outputs": [],
   "source": [
    "train_5_data.to_csv(\"train_5.csv\", sep=\",\")"
   ]
  },
  {
   "cell_type": "markdown",
   "metadata": {
    "deletable": true,
    "editable": true
   },
   "source": [
    "# test set for 5 mers"
   ]
  },
  {
   "cell_type": "code",
   "execution_count": 24,
   "metadata": {
    "collapsed": true,
    "deletable": true,
    "editable": true
   },
   "outputs": [],
   "source": [
    "test_5_data = copy.deepcopy(test_data)"
   ]
  },
  {
   "cell_type": "code",
   "execution_count": 25,
   "metadata": {
    "collapsed": true,
    "deletable": true,
    "editable": true
   },
   "outputs": [],
   "source": [
    "l = len(test_5_data)\n",
    "k = 5\n",
    "\n",
    "fiveMerTestList = []\n",
    "fiveMerTest = []\n",
    "\n",
    "for index in range(l):\n",
    "    fiveMerTestList.append([test_5_data.values[index][2][i:i+k] \n",
    "                                 for i in range(0, len(test_5_data.values[index][2]), k)])\n",
    "    fiveMerTest.append(','.join(fiveMerTestList[index]))"
   ]
  },
  {
   "cell_type": "code",
   "execution_count": 26,
   "metadata": {
    "collapsed": false,
    "deletable": true,
    "editable": true
   },
   "outputs": [
    {
     "data": {
      "text/html": [
       "<div>\n",
       "<style>\n",
       "    .dataframe thead tr:only-child th {\n",
       "        text-align: right;\n",
       "    }\n",
       "\n",
       "    .dataframe thead th {\n",
       "        text-align: left;\n",
       "    }\n",
       "\n",
       "    .dataframe tbody tr th {\n",
       "        vertical-align: top;\n",
       "    }\n",
       "</style>\n",
       "<table border=\"1\" class=\"dataframe\">\n",
       "  <thead>\n",
       "    <tr style=\"text-align: right;\">\n",
       "      <th></th>\n",
       "      <th>Family ID</th>\n",
       "      <th>Protein Name</th>\n",
       "      <th>Sequences</th>\n",
       "    </tr>\n",
       "  </thead>\n",
       "  <tbody>\n",
       "    <tr>\n",
       "      <th>106153</th>\n",
       "      <td>Jun</td>\n",
       "      <td>Transcription factor AP-1</td>\n",
       "      <td>MTAKM,ETTFY,DDALN,ASFLP,SESGP,YGYSN,PKILK,QSMT...</td>\n",
       "    </tr>\n",
       "    <tr>\n",
       "      <th>28911</th>\n",
       "      <td>CbiD</td>\n",
       "      <td>Putative cobalt-precorrin-6A synthase [deacety...</td>\n",
       "      <td>MNDET,TPANK,NPEKA,ELRCG,WTTGA,CATAA,TKAAL,TALI...</td>\n",
       "    </tr>\n",
       "    <tr>\n",
       "      <th>24356</th>\n",
       "      <td>PAP2</td>\n",
       "      <td>Bacitracin transport permease protein BcrC</td>\n",
       "      <td>MSFSE,LNIDA,FRFIN,DLGKE,YSMLN,PVVYF,LAEYM,MYFL...</td>\n",
       "    </tr>\n",
       "    <tr>\n",
       "      <th>114053</th>\n",
       "      <td>Aconitase</td>\n",
       "      <td>3-isopropylmalate dehydratase large subunit</td>\n",
       "      <td>MSQNT,LFDKV,WDLHK,VSSLP,GGSDQ,IFIGL,HLIHE,VTSP...</td>\n",
       "    </tr>\n",
       "  </tbody>\n",
       "</table>\n",
       "</div>"
      ],
      "text/plain": [
       "        Family ID                                       Protein Name  \\\n",
       "106153        Jun                          Transcription factor AP-1   \n",
       "28911        CbiD  Putative cobalt-precorrin-6A synthase [deacety...   \n",
       "24356        PAP2         Bacitracin transport permease protein BcrC   \n",
       "114053  Aconitase        3-isopropylmalate dehydratase large subunit   \n",
       "\n",
       "                                                Sequences  \n",
       "106153  MTAKM,ETTFY,DDALN,ASFLP,SESGP,YGYSN,PKILK,QSMT...  \n",
       "28911   MNDET,TPANK,NPEKA,ELRCG,WTTGA,CATAA,TKAAL,TALI...  \n",
       "24356   MSFSE,LNIDA,FRFIN,DLGKE,YSMLN,PVVYF,LAEYM,MYFL...  \n",
       "114053  MSQNT,LFDKV,WDLHK,VSSLP,GGSDQ,IFIGL,HLIHE,VTSP...  "
      ]
     },
     "execution_count": 26,
     "metadata": {},
     "output_type": "execute_result"
    }
   ],
   "source": [
    "test_5_data['Sequences'] = fiveMerTest\n",
    "test_5_data[0:4]"
   ]
  },
  {
   "cell_type": "code",
   "execution_count": 27,
   "metadata": {
    "collapsed": true,
    "deletable": true,
    "editable": true
   },
   "outputs": [],
   "source": [
    "test_5_data.to_csv(\"test_5.csv\", sep=\",\")"
   ]
  },
  {
   "cell_type": "markdown",
   "metadata": {
    "deletable": true,
    "editable": true
   },
   "source": [
    "# train set for 8 mers"
   ]
  },
  {
   "cell_type": "code",
   "execution_count": 28,
   "metadata": {
    "collapsed": false,
    "deletable": true,
    "editable": true
   },
   "outputs": [
    {
     "data": {
      "text/html": [
       "<div>\n",
       "<style>\n",
       "    .dataframe thead tr:only-child th {\n",
       "        text-align: right;\n",
       "    }\n",
       "\n",
       "    .dataframe thead th {\n",
       "        text-align: left;\n",
       "    }\n",
       "\n",
       "    .dataframe tbody tr th {\n",
       "        vertical-align: top;\n",
       "    }\n",
       "</style>\n",
       "<table border=\"1\" class=\"dataframe\">\n",
       "  <thead>\n",
       "    <tr style=\"text-align: right;\">\n",
       "      <th></th>\n",
       "      <th>Family ID</th>\n",
       "      <th>Protein Name</th>\n",
       "      <th>Sequences</th>\n",
       "    </tr>\n",
       "  </thead>\n",
       "  <tbody>\n",
       "    <tr>\n",
       "      <th>34581</th>\n",
       "      <td>Carn_acyltransf</td>\n",
       "      <td>Choline O-acetyltransferase</td>\n",
       "      <td>MPDLEKDMQKKEKDSRSKDEPAVPKLPVPPLQQTLQMYLQCMKHLV...</td>\n",
       "    </tr>\n",
       "    <tr>\n",
       "      <th>136255</th>\n",
       "      <td>PMSR</td>\n",
       "      <td>Peptide methionine sulfoxide reductase MsrA/MsrB</td>\n",
       "      <td>MKHRTFFSLCAKFGCLLALGACSPKIVDAGTATVPHTLSTLKTADN...</td>\n",
       "    </tr>\n",
       "  </tbody>\n",
       "</table>\n",
       "</div>"
      ],
      "text/plain": [
       "              Family ID                                      Protein Name  \\\n",
       "34581   Carn_acyltransf                       Choline O-acetyltransferase   \n",
       "136255             PMSR  Peptide methionine sulfoxide reductase MsrA/MsrB   \n",
       "\n",
       "                                                Sequences  \n",
       "34581   MPDLEKDMQKKEKDSRSKDEPAVPKLPVPPLQQTLQMYLQCMKHLV...  \n",
       "136255  MKHRTFFSLCAKFGCLLALGACSPKIVDAGTATVPHTLSTLKTADN...  "
      ]
     },
     "execution_count": 28,
     "metadata": {},
     "output_type": "execute_result"
    }
   ],
   "source": [
    "train_8_data = copy.deepcopy(train_data)\n",
    "train_8_data[0:2]"
   ]
  },
  {
   "cell_type": "code",
   "execution_count": 29,
   "metadata": {
    "collapsed": true,
    "deletable": true,
    "editable": true
   },
   "outputs": [],
   "source": [
    "l = len(train_8_data)\n",
    "k = 8\n",
    "\n",
    "eightMerTrainList = []\n",
    "eightMerTrain = []\n",
    "\n",
    "for index in range(l):\n",
    "    eightMerTrainList.append([train_8_data.values[index][2][i:i+k] \n",
    "                                 for i in range(0, len(train_8_data.values[index][2]), k)])\n",
    "    eightMerTrain.append(','.join(eightMerTrainList[index]))"
   ]
  },
  {
   "cell_type": "code",
   "execution_count": 30,
   "metadata": {
    "collapsed": false,
    "deletable": true,
    "editable": true
   },
   "outputs": [
    {
     "data": {
      "text/html": [
       "<div>\n",
       "<style>\n",
       "    .dataframe thead tr:only-child th {\n",
       "        text-align: right;\n",
       "    }\n",
       "\n",
       "    .dataframe thead th {\n",
       "        text-align: left;\n",
       "    }\n",
       "\n",
       "    .dataframe tbody tr th {\n",
       "        vertical-align: top;\n",
       "    }\n",
       "</style>\n",
       "<table border=\"1\" class=\"dataframe\">\n",
       "  <thead>\n",
       "    <tr style=\"text-align: right;\">\n",
       "      <th></th>\n",
       "      <th>Family ID</th>\n",
       "      <th>Protein Name</th>\n",
       "      <th>Sequences</th>\n",
       "    </tr>\n",
       "  </thead>\n",
       "  <tbody>\n",
       "    <tr>\n",
       "      <th>34581</th>\n",
       "      <td>Carn_acyltransf</td>\n",
       "      <td>Choline O-acetyltransferase</td>\n",
       "      <td>MPDLEKDM,QKKEKDSR,SKDEPAVP,KLPVPPLQ,QTLQMYLQ,C...</td>\n",
       "    </tr>\n",
       "    <tr>\n",
       "      <th>136255</th>\n",
       "      <td>PMSR</td>\n",
       "      <td>Peptide methionine sulfoxide reductase MsrA/MsrB</td>\n",
       "      <td>MKHRTFFS,LCAKFGCL,LALGACSP,KIVDAGTA,TVPHTLST,L...</td>\n",
       "    </tr>\n",
       "    <tr>\n",
       "      <th>26967</th>\n",
       "      <td>Cadherin_C</td>\n",
       "      <td>Cadherin-2</td>\n",
       "      <td>SLCKTGFP,EDVYSAVL,SRDVLEGQ,PLLNVKFS,NCNGKRKV,Q...</td>\n",
       "    </tr>\n",
       "    <tr>\n",
       "      <th>180327</th>\n",
       "      <td>PsbJ</td>\n",
       "      <td>Photosystem II reaction center protein J</td>\n",
       "      <td>MADTTGRI,PLWLIGTV,TGIPVIGL,IGIFFYGS,YSGLGSSL</td>\n",
       "    </tr>\n",
       "  </tbody>\n",
       "</table>\n",
       "</div>"
      ],
      "text/plain": [
       "              Family ID                                      Protein Name  \\\n",
       "34581   Carn_acyltransf                       Choline O-acetyltransferase   \n",
       "136255             PMSR  Peptide methionine sulfoxide reductase MsrA/MsrB   \n",
       "26967        Cadherin_C                                        Cadherin-2   \n",
       "180327             PsbJ          Photosystem II reaction center protein J   \n",
       "\n",
       "                                                Sequences  \n",
       "34581   MPDLEKDM,QKKEKDSR,SKDEPAVP,KLPVPPLQ,QTLQMYLQ,C...  \n",
       "136255  MKHRTFFS,LCAKFGCL,LALGACSP,KIVDAGTA,TVPHTLST,L...  \n",
       "26967   SLCKTGFP,EDVYSAVL,SRDVLEGQ,PLLNVKFS,NCNGKRKV,Q...  \n",
       "180327       MADTTGRI,PLWLIGTV,TGIPVIGL,IGIFFYGS,YSGLGSSL  "
      ]
     },
     "execution_count": 30,
     "metadata": {},
     "output_type": "execute_result"
    }
   ],
   "source": [
    "train_8_data['Sequences'] = eightMerTrain\n",
    "train_8_data[0:4]"
   ]
  },
  {
   "cell_type": "code",
   "execution_count": 31,
   "metadata": {
    "collapsed": true,
    "deletable": true,
    "editable": true
   },
   "outputs": [],
   "source": [
    "train_8_data.to_csv(\"train_8.csv\", sep=\",\")"
   ]
  },
  {
   "cell_type": "markdown",
   "metadata": {
    "deletable": true,
    "editable": true
   },
   "source": [
    "# test set for 8 mers"
   ]
  },
  {
   "cell_type": "code",
   "execution_count": 32,
   "metadata": {
    "collapsed": true,
    "deletable": true,
    "editable": true
   },
   "outputs": [],
   "source": [
    "test_8_data = copy.deepcopy(test_data)"
   ]
  },
  {
   "cell_type": "code",
   "execution_count": 33,
   "metadata": {
    "collapsed": true,
    "deletable": true,
    "editable": true
   },
   "outputs": [],
   "source": [
    "l = len(test_8_data)\n",
    "k = 8\n",
    "\n",
    "eightMerTestList = []\n",
    "eightMerTest = []\n",
    "\n",
    "for index in range(l):\n",
    "    eightMerTestList.append([test_8_data.values[index][2][i:i+k] \n",
    "                                 for i in range(0, len(test_8_data.values[index][2]), k)])\n",
    "    eightMerTest.append(','.join(eightMerTestList[index]))"
   ]
  },
  {
   "cell_type": "code",
   "execution_count": 34,
   "metadata": {
    "collapsed": false,
    "deletable": true,
    "editable": true
   },
   "outputs": [
    {
     "data": {
      "text/html": [
       "<div>\n",
       "<style>\n",
       "    .dataframe thead tr:only-child th {\n",
       "        text-align: right;\n",
       "    }\n",
       "\n",
       "    .dataframe thead th {\n",
       "        text-align: left;\n",
       "    }\n",
       "\n",
       "    .dataframe tbody tr th {\n",
       "        vertical-align: top;\n",
       "    }\n",
       "</style>\n",
       "<table border=\"1\" class=\"dataframe\">\n",
       "  <thead>\n",
       "    <tr style=\"text-align: right;\">\n",
       "      <th></th>\n",
       "      <th>Family ID</th>\n",
       "      <th>Protein Name</th>\n",
       "      <th>Sequences</th>\n",
       "    </tr>\n",
       "  </thead>\n",
       "  <tbody>\n",
       "    <tr>\n",
       "      <th>106153</th>\n",
       "      <td>Jun</td>\n",
       "      <td>Transcription factor AP-1</td>\n",
       "      <td>MTAKMETT,FYDDALNA,SFLPSESG,PYGYSNPK,ILKQSMTL,N...</td>\n",
       "    </tr>\n",
       "    <tr>\n",
       "      <th>28911</th>\n",
       "      <td>CbiD</td>\n",
       "      <td>Putative cobalt-precorrin-6A synthase [deacety...</td>\n",
       "      <td>MNDETTPA,NKNPEKAE,LRCGWTTG,ACATAATK,AALTALIT,G...</td>\n",
       "    </tr>\n",
       "    <tr>\n",
       "      <th>24356</th>\n",
       "      <td>PAP2</td>\n",
       "      <td>Bacitracin transport permease protein BcrC</td>\n",
       "      <td>MSFSELNI,DAFRFIND,LGKEYSML,NPVVYFLA,EYMMYFLA,L...</td>\n",
       "    </tr>\n",
       "    <tr>\n",
       "      <th>114053</th>\n",
       "      <td>Aconitase</td>\n",
       "      <td>3-isopropylmalate dehydratase large subunit</td>\n",
       "      <td>MSQNTLFD,KVWDLHKV,SSLPGGSD,QIFIGLHL,IHEVTSPQ,A...</td>\n",
       "    </tr>\n",
       "  </tbody>\n",
       "</table>\n",
       "</div>"
      ],
      "text/plain": [
       "        Family ID                                       Protein Name  \\\n",
       "106153        Jun                          Transcription factor AP-1   \n",
       "28911        CbiD  Putative cobalt-precorrin-6A synthase [deacety...   \n",
       "24356        PAP2         Bacitracin transport permease protein BcrC   \n",
       "114053  Aconitase        3-isopropylmalate dehydratase large subunit   \n",
       "\n",
       "                                                Sequences  \n",
       "106153  MTAKMETT,FYDDALNA,SFLPSESG,PYGYSNPK,ILKQSMTL,N...  \n",
       "28911   MNDETTPA,NKNPEKAE,LRCGWTTG,ACATAATK,AALTALIT,G...  \n",
       "24356   MSFSELNI,DAFRFIND,LGKEYSML,NPVVYFLA,EYMMYFLA,L...  \n",
       "114053  MSQNTLFD,KVWDLHKV,SSLPGGSD,QIFIGLHL,IHEVTSPQ,A...  "
      ]
     },
     "execution_count": 34,
     "metadata": {},
     "output_type": "execute_result"
    }
   ],
   "source": [
    "test_8_data['Sequences'] = eightMerTest\n",
    "test_8_data[0:4]"
   ]
  },
  {
   "cell_type": "code",
   "execution_count": 35,
   "metadata": {
    "collapsed": true,
    "deletable": true,
    "editable": true
   },
   "outputs": [],
   "source": [
    "test_8_data.to_csv(\"test_8.csv\", sep=\",\")"
   ]
  },
  {
   "cell_type": "code",
   "execution_count": null,
   "metadata": {
    "collapsed": true,
    "deletable": true,
    "editable": true
   },
   "outputs": [],
   "source": []
  }
 ],
 "metadata": {
  "kernelspec": {
   "display_name": "Python 2",
   "language": "python",
   "name": "python2"
  },
  "language_info": {
   "codemirror_mode": {
    "name": "ipython",
    "version": 2
   },
   "file_extension": ".py",
   "mimetype": "text/x-python",
   "name": "python",
   "nbconvert_exporter": "python",
   "pygments_lexer": "ipython2",
   "version": "2.7.13"
  }
 },
 "nbformat": 4,
 "nbformat_minor": 2
}
